{
 "cells": [
  {
   "cell_type": "code",
   "execution_count": 4,
   "metadata": {},
   "outputs": [],
   "source": [
    "import cv2\n",
    "import numpy as np\n",
    "image=cv2.imread('./images/grid.jpg')\n",
    "gray_image=cv2.cvtColor(image,cv2.COLOR_BGR2GRAY)\n",
    "gray=np.float32(gray_image)\n",
    "harris_corner=cv2.cornerHarris(gray,3,3,0.05) #blocksize and aperture size 3,3\n",
    "kernal=np.ones((7,7),np.uint8)\n",
    "#dilate to indicate corners\n",
    "harris_corner=cv2.dilate(harris_corner,kernal,2)\n",
    "image[harris_corner>0.025*harris_corner.max()]=[255,170,170]\n",
    "cv2.imshow('image',image)\n",
    "cv2.waitKey()\n",
    "cv2.destroyAllWindows()"
   ]
  },
  {
   "cell_type": "code",
   "execution_count": 6,
   "metadata": {},
   "outputs": [],
   "source": [
    "import cv2\n",
    "import numpy as np\n",
    "image=cv2.imread('./images/grid.jpg')\n",
    "gray_image=cv2.cvtColor(image,cv2.COLOR_BGR2GRAY)\n",
    "corners=cv2.goodFeaturesToTrack(gray,10000,0.01,15) #min_edges=100, min_distance=15\n",
    "for corner in corners:\n",
    "    x,y=corner[0]\n",
    "    x=int(x)\n",
    "    y=int(y)\n",
    "    cv2.rectangle(image,(x-10,y-10),(x+10,y+10),(255,0,0),4)\n",
    "cv2.imshow('image',image)\n",
    "cv2.waitKey()\n",
    "cv2.destroyAllWindows()"
   ]
  },
  {
   "cell_type": "code",
   "execution_count": null,
   "metadata": {},
   "outputs": [],
   "source": []
  }
 ],
 "metadata": {
  "kernelspec": {
   "display_name": "Python 3",
   "language": "python",
   "name": "python3"
  },
  "language_info": {
   "codemirror_mode": {
    "name": "ipython",
    "version": 3
   },
   "file_extension": ".py",
   "mimetype": "text/x-python",
   "name": "python",
   "nbconvert_exporter": "python",
   "pygments_lexer": "ipython3",
   "version": "3.6.8"
  }
 },
 "nbformat": 4,
 "nbformat_minor": 2
}
